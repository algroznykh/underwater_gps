{
 "cells": [
  {
   "cell_type": "markdown",
   "metadata": {},
   "source": [
    "# Underwater positioning system\n",
    "## using tensorflow\n",
    "\n",
    "GPS does not work underwater. \n",
    "So for our underwater drone we need a system based on acoustic signals. \n",
    "The system consist of speaker, mounted on drone, and 3 microphones on buoys in known relative locations. \n",
    "\n",
    "Sending signal from the drone, we can record time passed before each buoy picks up the signal. \n",
    "Then we solve a system of quadratic equations using tensorflow, to determine the drone location.\n"
   ]
  },
  {
   "cell_type": "code",
   "execution_count": 131,
   "metadata": {},
   "outputs": [],
   "source": [
    "import numpy as np\n",
    "import pandas as pd\n",
    "import seaborn as sns\n",
    "from matplotlib import pyplot as plt"
   ]
  },
  {
   "cell_type": "code",
   "execution_count": 2,
   "metadata": {},
   "outputs": [],
   "source": [
    "import tensorflow as tf"
   ]
  },
  {
   "cell_type": "code",
   "execution_count": 3,
   "metadata": {},
   "outputs": [
    {
     "data": {
      "text/plain": [
       "1.48"
      ]
     },
     "execution_count": 3,
     "metadata": {},
     "output_type": "execute_result"
    }
   ],
   "source": [
    "SPEED_OF_SOUND_WATER = 1480 * 10**-3  # meters per millisecond\n",
    "SPEED_OF_SOUND_WATER"
   ]
  },
  {
   "cell_type": "code",
   "execution_count": 4,
   "metadata": {},
   "outputs": [],
   "source": [
    "def get_distance_to_bouy(rov_loc, bouy_loc):\n",
    "    x_dist = rov_loc[0] - bouy_loc[0]\n",
    "    y_dist = rov_loc[1] - bouy_loc[1]\n",
    "    return (x_dist ** 2 + y_dist ** 2) ** 0.5\n",
    "\n",
    "def generate_times_from_locations(rov_loc, bouys_locs, speed_of_sound):\n",
    "    \"\"\" ROV_LOCATION: (x, y) BUOYS_LOCATIONS: {b1: (x, y), b2: (x, y), b3: (x, y)} SPEED_OF_SOUND: float\n",
    "    returns: {b1: time_milliseconds, ...}\n",
    "    \"\"\"\n",
    "    times = {}\n",
    "    \n",
    "    for bouy in bouys_locs:\n",
    "        dist_to_bouy = get_distance_to_bouy(rov_loc, bouys_locs[bouy])\n",
    "        time_to_bouy = dist_to_bouy / speed_of_sound\n",
    "        times[bouy] = time_to_bouy\n",
    "        \n",
    "    return times\n",
    "    "
   ]
  },
  {
   "cell_type": "code",
   "execution_count": 135,
   "metadata": {},
   "outputs": [
    {
     "data": {
      "text/html": [
       "<div>\n",
       "<style scoped>\n",
       "    .dataframe tbody tr th:only-of-type {\n",
       "        vertical-align: middle;\n",
       "    }\n",
       "\n",
       "    .dataframe tbody tr th {\n",
       "        vertical-align: top;\n",
       "    }\n",
       "\n",
       "    .dataframe thead th {\n",
       "        text-align: right;\n",
       "    }\n",
       "</style>\n",
       "<table border=\"1\" class=\"dataframe\">\n",
       "  <thead>\n",
       "    <tr style=\"text-align: right;\">\n",
       "      <th></th>\n",
       "      <th>x</th>\n",
       "      <th>y</th>\n",
       "    </tr>\n",
       "  </thead>\n",
       "  <tbody>\n",
       "    <tr>\n",
       "      <th>rov</th>\n",
       "      <td>2</td>\n",
       "      <td>-4</td>\n",
       "    </tr>\n",
       "    <tr>\n",
       "      <th>b1</th>\n",
       "      <td>3</td>\n",
       "      <td>4</td>\n",
       "    </tr>\n",
       "    <tr>\n",
       "      <th>b2</th>\n",
       "      <td>2</td>\n",
       "      <td>-3</td>\n",
       "    </tr>\n",
       "    <tr>\n",
       "      <th>b3</th>\n",
       "      <td>-1</td>\n",
       "      <td>2</td>\n",
       "    </tr>\n",
       "  </tbody>\n",
       "</table>\n",
       "</div>"
      ],
      "text/plain": [
       "     x  y\n",
       "rov  2 -4\n",
       "b1   3  4\n",
       "b2   2 -3\n",
       "b3  -1  2"
      ]
     },
     "execution_count": 135,
     "metadata": {},
     "output_type": "execute_result"
    }
   ],
   "source": [
    "# placing rover randomly within 100m radius from center\n",
    "TEST_ROV_LOC = (random.randint(-10, 10), random.randint(-10, 10))  \n",
    "TEST_BOUYS_LOCS = {'b1': (3, 4), \n",
    "                   'b2': (2, -3), \n",
    "                   'b3': (-1, 2)} \n",
    "\n",
    "LOCS = {\n",
    "    'rov': TEST_ROV_LOC\n",
    "}\n",
    "LOCS.update(TEST_BOUYS_LOCS)\n",
    "\n",
    "locs_df = pd.DataFrame.from_dict(LOCS, orient='index', columns=['x', 'y'])\n",
    "locs_df"
   ]
  },
  {
   "cell_type": "code",
   "execution_count": 136,
   "metadata": {},
   "outputs": [
    {
     "data": {
      "text/plain": [
       "<matplotlib.axes._subplots.AxesSubplot at 0x27d193ab518>"
      ]
     },
     "execution_count": 136,
     "metadata": {},
     "output_type": "execute_result"
    },
    {
     "data": {
      "image/png": "[encoded data removed]",
      "text/plain": [
       "<Figure size 432x288 with 1 Axes>"
      ]
     },
     "metadata": {
      "needs_background": "light"
     },
     "output_type": "display_data"
    }
   ],
   "source": [
    "sns.scatterplot('x', 'y', data=locs_df, hue=locs_df.index)"
   ]
  },
  {
   "cell_type": "code",
   "execution_count": 137,
   "metadata": {},
   "outputs": [
    {
     "data": {
      "text/plain": [
       "{'b1': 5.447471451553074, 'b2': 0.6756756756756757, 'b3': 4.532570224661736}"
      ]
     },
     "execution_count": 137,
     "metadata": {},
     "output_type": "execute_result"
    }
   ],
   "source": [
    "times = generate_times_from_locations(TEST_ROV_LOC, TEST_BOUYS_LOCS, SPEED_OF_SOUND_WATER)\n",
    "times"
   ]
  },
  {
   "cell_type": "code",
   "execution_count": 140,
   "metadata": {},
   "outputs": [],
   "source": [
    "def locate(buoys_locs, travel_times):\n",
    "    \"\"\"\n",
    "    buoys_locs: [(x1, y1), (x2, y2), (x3, y3)],\n",
    "    travel_times: [t1, t2, t3]    \n",
    "    \"\"\"\n",
    "    \n",
    "    buoys_x = [x for x, y in buoys_locs]\n",
    "    buoys_y = [y for x, y in buoys_locs]\n",
    "    distances = [t * SPEED_OF_SOUND_WATER for t in travel_times]\n",
    "    \n",
    "    # want to find those \n",
    "    x = tf.Variable([0], dtype=tf.float32)\n",
    "    y = tf.Variable([0], dtype=tf.float32)\n",
    "\n",
    "    # those are vectors fed up into the system\n",
    "    X = tf.placeholder(tf.float32, [3, ])\n",
    "    Y = tf.placeholder(tf.float32, [3, ])\n",
    "    R = tf.placeholder(tf.float32, [3, ])\n",
    "\n",
    "    cost = ((x - X) ** 2 + (y - Y) ** 2 - R ** 2) ** 2\n",
    "\n",
    "    # opt = (x_1 - x_2) + (y_1 - y_2) + (x_1 - x_3) + (y_1 - y_3) + (x_2 - x_3) + (y_2 - y_3)\n",
    "\n",
    "    sess = tf.Session()\n",
    "    sess.run(tf.global_variables_initializer())\n",
    "\n",
    "    learning_rate = 0.001\n",
    "    optimizer = tf.train.GradientDescentOptimizer(learning_rate).minimize(cost)\n",
    "\n",
    "    n_iter = 100\n",
    "    # errors = []\n",
    "\n",
    "    for i in range(n_iter):\n",
    "        _, err = sess.run([optimizer, cost],\n",
    "                {X: buoys_x,\n",
    "                Y: buoys_y,\n",
    "                R: distances})\n",
    "\n",
    "        # errors.append(err)\n",
    "        if sum(err) < 0.05:\n",
    "            break\n",
    "\n",
    "    x, y, = sess.run(\n",
    "        [x, y], {\n",
    "            X: x_train[pos], \n",
    "            Y: y_train[pos], \n",
    "            R: r_train[pos]\n",
    "        })\n",
    "    return x, y"
   ]
  },
  {
   "cell_type": "code",
   "execution_count": 141,
   "metadata": {},
   "outputs": [
    {
     "name": "stdout",
     "output_type": "stream",
     "text": [
      "{'b1': 5.447471451553074, 'b2': 0.6756756756756757, 'b3': 4.532570224661736} [5.324170270466798, 0.6494162687905501, 4.442345827204815]\n"
     ]
    }
   ],
   "source": [
    "import random\n",
    "# testing with added 10% noise\n",
    "noisy_times = [t + (t * random.random() / 10 * random.choice([-1, 1])) for t in times.values()]\n",
    "print(times, noisy_times)\n",
    "x_pred, y_pred = locate(TEST_BOUYS_LOCS.values(), noisy_times)"
   ]
  },
  {
   "cell_type": "code",
   "execution_count": 142,
   "metadata": {},
   "outputs": [
    {
     "data": {
      "text/plain": [
       "<matplotlib.collections.PathCollection at 0x27d18f3bc50>"
      ]
     },
     "execution_count": 142,
     "metadata": {},
     "output_type": "execute_result"
    },
    {
     "data": {
      "image/png": "[encoded data removed]",
      "text/plain": [
       "<Figure size 432x288 with 1 Axes>"
      ]
     },
     "metadata": {
      "needs_background": "light"
     },
     "output_type": "display_data"
    }
   ],
   "source": [
    "plt.scatter([x for x, _ in TEST_BOUYS_LOCS.values()], [y for _, y in TEST_BOUYS_LOCS.values()])\n",
    "plt.scatter(TEST_ROV_LOC[0], TEST_ROV_LOC[1], color='red')\n",
    "plt.scatter(x_pred, y_pred, color='green')"
   ]
  }
 ],
 "metadata": {
  "kernelspec": {
   "display_name": "Python 3",
   "language": "python",
   "name": "python3"
  },
  "language_info": {
   "codemirror_mode": {
    "name": "ipython",
    "version": 3
   },
   "file_extension": ".py",
   "mimetype": "text/x-python",
   "name": "python",
   "nbconvert_exporter": "python",
   "pygments_lexer": "ipython3",
   "version": "3.6.8"
  }
 },
 "nbformat": 4,
 "nbformat_minor": 2
}
