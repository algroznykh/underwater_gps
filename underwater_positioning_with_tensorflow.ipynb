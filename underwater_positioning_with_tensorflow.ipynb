{
  "nbformat": 4,
  "nbformat_minor": 0,
  "metadata": {
    "kernelspec": {
      "display_name": "Python 3",
      "language": "python",
      "name": "python3"
    },
    "language_info": {
      "codemirror_mode": {
        "name": "ipython",
        "version": 3
      },
      "file_extension": ".py",
      "mimetype": "text/x-python",
      "name": "python",
      "nbconvert_exporter": "python",
      "pygments_lexer": "ipython3",
      "version": "3.6.8"
    },
    "colab": {
      "name": "underwater_positioning_with_tensorflow.ipynb",
      "provenance": []
    }
  },
  "cells": [
    {
      "cell_type": "markdown",
      "metadata": {
        "id": "iAj1EcRcYLy2",
        "colab_type": "text"
      },
      "source": [
        "# Underwater positioning system\n",
        "## using tensorflow\n",
        "\n",
        "GPS does not work underwater. \n",
        "So for our underwater drone we need a system based on acoustic signals. \n",
        "The system consist of speaker, mounted on drone, and 3 microphones on buoys in known relative locations. \n",
        "\n",
        "Sending signal from the drone, we can record time passed before each buoy picks up the signal. \n",
        "Then we solve a system of quadratic equations using tensorflow, to determine the drone location.\n"
      ]
    },
    {
      "cell_type": "code",
      "metadata": {
        "id": "5M8yHsn6YLy7",
        "colab_type": "code",
        "colab": {
          "base_uri": "https://localhost:8080/",
          "height": 74
        },
        "outputId": "34f913e6-2fd9-43a5-8be7-4bb0bca9b724"
      },
      "source": [
        "import numpy as np\n",
        "import pandas as pd\n",
        "import seaborn as sns\n",
        "from matplotlib import pyplot as plt"
      ],
      "execution_count": 2,
      "outputs": [
        {
          "output_type": "stream",
          "text": [
            "/usr/local/lib/python3.6/dist-packages/statsmodels/tools/_testing.py:19: FutureWarning: pandas.util.testing is deprecated. Use the functions in the public API at pandas.testing instead.\n",
            "  import pandas.util.testing as tm\n"
          ],
          "name": "stderr"
        }
      ]
    },
    {
      "cell_type": "code",
      "metadata": {
        "id": "QkgQKO1AYLzL",
        "colab_type": "code",
        "colab": {
          "base_uri": "https://localhost:8080/",
          "height": 35
        },
        "outputId": "7f20045a-bc4c-4946-ee63-51213eaad099"
      },
      "source": [
        "%tensorflow_version 1.x\n",
        "import tensorflow as tf"
      ],
      "execution_count": 1,
      "outputs": [
        {
          "output_type": "stream",
          "text": [
            "TensorFlow 1.x selected.\n"
          ],
          "name": "stdout"
        }
      ]
    },
    {
      "cell_type": "code",
      "metadata": {
        "id": "iqgpR_FkYLzb",
        "colab_type": "code",
        "colab": {
          "base_uri": "https://localhost:8080/",
          "height": 35
        },
        "outputId": "d70e3f09-e71d-421c-cfd6-b8f35e198a73"
      },
      "source": [
        "SPEED_OF_SOUND_WATER = 1480 * 10**-3  # meters per millisecond\n",
        "SPEED_OF_SOUND_WATER"
      ],
      "execution_count": 3,
      "outputs": [
        {
          "output_type": "execute_result",
          "data": {
            "text/plain": [
              "1.48"
            ]
          },
          "metadata": {
            "tags": []
          },
          "execution_count": 3
        }
      ]
    },
    {
      "cell_type": "code",
      "metadata": {
        "id": "npZjSBNhYLzs",
        "colab_type": "code",
        "colab": {}
      },
      "source": [
        "def get_distance_to_bouy(rov_loc, bouy_loc):\n",
        "    x_dist = rov_loc[0] - bouy_loc[0]\n",
        "    y_dist = rov_loc[1] - bouy_loc[1]\n",
        "    return (x_dist ** 2 + y_dist ** 2) ** 0.5\n",
        "\n",
        "def generate_times_from_locations(rov_loc, bouys_locs, speed_of_sound):\n",
        "    \"\"\" ROV_LOCATION: (x, y) BUOYS_LOCATIONS: {b1: (x, y), b2: (x, y), b3: (x, y)} SPEED_OF_SOUND: float\n",
        "    returns: {b1: time_milliseconds, ...}\n",
        "    \"\"\"\n",
        "    times = {}\n",
        "    \n",
        "    for bouy in bouys_locs:\n",
        "        dist_to_bouy = get_distance_to_bouy(rov_loc, bouys_locs[bouy])\n",
        "        time_to_bouy = dist_to_bouy / speed_of_sound\n",
        "        times[bouy] = time_to_bouy\n",
        "        \n",
        "    return times\n",
        "    "
      ],
      "execution_count": 0,
      "outputs": []
    },
    {
      "cell_type": "code",
      "metadata": {
        "id": "73dZohR9YTzA",
        "colab_type": "code",
        "colab": {}
      },
      "source": [
        ""
      ],
      "execution_count": 0,
      "outputs": []
    },
    {
      "cell_type": "code",
      "metadata": {
        "id": "qLnHOYKCYLz2",
        "colab_type": "code",
        "colab": {
          "base_uri": "https://localhost:8080/",
          "height": 175
        },
        "outputId": "df49112a-5681-496f-ebcd-6660f48118fa"
      },
      "source": [
        "import random\n",
        "# placing rover randomly within 100m radius from center\n",
        "TEST_ROV_LOC = (random.randint(-10, 10), random.randint(-10, 10))  \n",
        "TEST_BOUYS_LOCS = {'b1': (3, 4), \n",
        "                   'b2': (2, -3), \n",
        "                   'b3': (-1, 2)} \n",
        "\n",
        "LOCS = {\n",
        "    'rov': TEST_ROV_LOC\n",
        "}\n",
        "LOCS.update(TEST_BOUYS_LOCS)\n",
        "\n",
        "locs_df = pd.DataFrame.from_dict(LOCS, orient='index', columns=['x', 'y'])\n",
        "locs_df"
      ],
      "execution_count": 5,
      "outputs": [
        {
          "output_type": "execute_result",
          "data": {
            "text/html": [
              "<div>\n",
              "<style scoped>\n",
              "    .dataframe tbody tr th:only-of-type {\n",
              "        vertical-align: middle;\n",
              "    }\n",
              "\n",
              "    .dataframe tbody tr th {\n",
              "        vertical-align: top;\n",
              "    }\n",
              "\n",
              "    .dataframe thead th {\n",
              "        text-align: right;\n",
              "    }\n",
              "</style>\n",
              "<table border=\"1\" class=\"dataframe\">\n",
              "  <thead>\n",
              "    <tr style=\"text-align: right;\">\n",
              "      <th></th>\n",
              "      <th>x</th>\n",
              "      <th>y</th>\n",
              "    </tr>\n",
              "  </thead>\n",
              "  <tbody>\n",
              "    <tr>\n",
              "      <th>rov</th>\n",
              "      <td>-9</td>\n",
              "      <td>-7</td>\n",
              "    </tr>\n",
              "    <tr>\n",
              "      <th>b1</th>\n",
              "      <td>3</td>\n",
              "      <td>4</td>\n",
              "    </tr>\n",
              "    <tr>\n",
              "      <th>b2</th>\n",
              "      <td>2</td>\n",
              "      <td>-3</td>\n",
              "    </tr>\n",
              "    <tr>\n",
              "      <th>b3</th>\n",
              "      <td>-1</td>\n",
              "      <td>2</td>\n",
              "    </tr>\n",
              "  </tbody>\n",
              "</table>\n",
              "</div>"
            ],
            "text/plain": [
              "     x  y\n",
              "rov -9 -7\n",
              "b1   3  4\n",
              "b2   2 -3\n",
              "b3  -1  2"
            ]
          },
          "metadata": {
            "tags": []
          },
          "execution_count": 5
        }
      ]
    },
    {
      "cell_type": "code",
      "metadata": {
        "id": "dAF4RvkIaDKO",
        "colab_type": "code",
        "colab": {}
      },
      "source": [
        ""
      ],
      "execution_count": 0,
      "outputs": []
    },
    {
      "cell_type": "code",
      "metadata": {
        "id": "wr9DUTsCYL0A",
        "colab_type": "code",
        "colab": {
          "base_uri": "https://localhost:8080/",
          "height": 297
        },
        "outputId": "151d692e-dab6-4d57-9b03-0af231c099e9"
      },
      "source": [
        "sns.scatterplot('x', 'y', data=locs_df, hue=locs_df.index)"
      ],
      "execution_count": 6,
      "outputs": [
        {
          "output_type": "execute_result",
          "data": {
            "text/plain": [
              "<matplotlib.axes._subplots.AxesSubplot at 0x7fd26cb904a8>"
            ]
          },
          "metadata": {
            "tags": []
          },
          "execution_count": 6
        },
        {
          "output_type": "display_data",
          "data": {
            "image/png": "[encoded data removed]",
            "text/plain": [
              "<Figure size 432x288 with 1 Axes>"
            ]
          },
          "metadata": {
            "tags": [],
            "needs_background": "light"
          }
        }
      ]
    },
    {
      "cell_type": "code",
      "metadata": {
        "id": "TbRK8uxNYL0N",
        "colab_type": "code",
        "colab": {
          "base_uri": "https://localhost:8080/",
          "height": 35
        },
        "outputId": "d9ca00a2-1c10-42a1-bc3f-c3512e4df535"
      },
      "source": [
        "times = generate_times_from_locations(TEST_ROV_LOC, TEST_BOUYS_LOCS, SPEED_OF_SOUND_WATER)\n",
        "times"
      ],
      "execution_count": 7,
      "outputs": [
        {
          "output_type": "execute_result",
          "data": {
            "text/plain": [
              "{'b1': 10.999203105472775, 'b2': 7.908581020756504, 'b3': 8.136212553238037}"
            ]
          },
          "metadata": {
            "tags": []
          },
          "execution_count": 7
        }
      ]
    },
    {
      "cell_type": "code",
      "metadata": {
        "id": "HMS3Yf_WYL0V",
        "colab_type": "code",
        "colab": {}
      },
      "source": [
        "def locate(buoys_locs, travel_times):\n",
        "    \"\"\"\n",
        "    buoys_locs: [(x1, y1), (x2, y2), (x3, y3)],\n",
        "    travel_times: [t1, t2, t3]    \n",
        "    \"\"\"\n",
        "    \n",
        "    buoys_x = [x for x, y in buoys_locs]\n",
        "    buoys_y = [y for x, y in buoys_locs]\n",
        "    distances = [t * SPEED_OF_SOUND_WATER for t in travel_times]\n",
        "    \n",
        "    # want to find those \n",
        "    x = tf.Variable([0], dtype=tf.float32)\n",
        "    y = tf.Variable([0], dtype=tf.float32)\n",
        "\n",
        "    # those are vectors fed up into the system\n",
        "    X = tf.placeholder(tf.float32, [3, ])\n",
        "    Y = tf.placeholder(tf.float32, [3, ])\n",
        "    R = tf.placeholder(tf.float32, [3, ])\n",
        "\n",
        "    cost = ((x - X) ** 2 + (y - Y) ** 2 - R ** 2) ** 2\n",
        "\n",
        "    # opt = (x_1 - x_2) + (y_1 - y_2) + (x_1 - x_3) + (y_1 - y_3) + (x_2 - x_3) + (y_2 - y_3)\n",
        "\n",
        "    sess = tf.Session()\n",
        "    sess.run(tf.global_variables_initializer())\n",
        "\n",
        "    learning_rate = 0.001\n",
        "    optimizer = tf.train.GradientDescentOptimizer(learning_rate).minimize(cost)\n",
        "\n",
        "    n_iter = 100\n",
        "    # errors = []\n",
        "\n",
        "    for i in range(n_iter):\n",
        "        _, err = sess.run([optimizer, cost],\n",
        "                {X: buoys_x,\n",
        "                Y: buoys_y,\n",
        "                R: distances})\n",
        "\n",
        "        # errors.append(err)\n",
        "        if sum(err) < 0.05:\n",
        "            break\n",
        "\n",
        "    x, y, = sess.run(\n",
        "        [x, y], {\n",
        "            X: buoys_x, \n",
        "            Y: buoys_y, \n",
        "            R: distances\n",
        "        })\n",
        "    return x, y"
      ],
      "execution_count": 0,
      "outputs": []
    },
    {
      "cell_type": "code",
      "metadata": {
        "id": "I4eln3VuYL0c",
        "colab_type": "code",
        "colab": {
          "base_uri": "https://localhost:8080/",
          "height": 35
        },
        "outputId": "f15cdbaf-50f5-494c-d901-3d2279e27722"
      },
      "source": [
        "import random\n",
        "# testing with added 10% noise\n",
        "noisy_times = [t + (t * random.random() / 10 * random.choice([-1, 1])) for t in times.values()]\n",
        "print(times, noisy_times)\n",
        "x_pred, y_pred = locate(TEST_BOUYS_LOCS.values(), noisy_times)"
      ],
      "execution_count": 15,
      "outputs": [
        {
          "output_type": "stream",
          "text": [
            "{'b1': 10.999203105472775, 'b2': 7.908581020756504, 'b3': 8.136212553238037} [10.67145622582803, 7.955686072626187, 8.596352002424766]\n"
          ],
          "name": "stdout"
        }
      ]
    },
    {
      "cell_type": "code",
      "metadata": {
        "id": "m3jF8inEYL0n",
        "colab_type": "code",
        "colab": {},
        "outputId": "b95b502e-9112-4fa5-f1eb-9db95374e7c1"
      },
      "source": [
        "plt.scatter([x for x, _ in TEST_BOUYS_LOCS.values()], [y for _, y in TEST_BOUYS_LOCS.values()])\n",
        "plt.scatter(TEST_ROV_LOC[0], TEST_ROV_LOC[1], color='red')\n",
        "plt.scatter(x_pred, y_pred, color='green')"
      ],
      "execution_count": 0,
      "outputs": [
        {
          "output_type": "execute_result",
          "data": {
            "text/plain": [
              "<matplotlib.collections.PathCollection at 0x27d18f3bc50>"
            ]
          },
          "metadata": {
            "tags": []
          },
          "execution_count": 142
        },
        {
          "output_type": "display_data",
          "data": {
            "image/png": "[encoded data removed]",
            "text/plain": [
              "<Figure size 432x288 with 1 Axes>"
            ]
          },
          "metadata": {
            "tags": [],
            "needs_background": "light"
          }
        }
      ]
    }
  ]
}